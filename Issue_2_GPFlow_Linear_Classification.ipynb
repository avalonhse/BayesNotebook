{
 "cells": [
  {
   "cell_type": "markdown",
   "metadata": {},
   "source": [
    "# Load data"
   ]
  },
  {
   "cell_type": "code",
   "execution_count": 1,
   "metadata": {},
   "outputs": [
    {
     "data": {
      "image/png": "[encoded data removed]",
      "text/plain": [
       "<Figure size 432x432 with 1 Axes>"
      ]
     },
     "metadata": {
      "needs_background": "light"
     },
     "output_type": "display_data"
    }
   ],
   "source": [
    "import numpy as np\n",
    "X = np.array([[ 9.96578428, 60.],[ 9.96578428, 40.],[ 9.96578428, 20.],\n",
    "       [10.96578428, 30.],[11.96578428, 40.],[12.96578428, 50.],\n",
    "       [12.96578428, 70.],[8.96578428, 30. ],[ 7.96578428, 40.],\n",
    "       [ 6.96578428, 50.],[ 6.96578428, 30.],[ 6.96578428, 10.],\n",
    "       [11.4655664 , 71.],[ 8.56605404, 63.],[12.41574177, 69.],\n",
    "       [10.61562964, 48.],[ 7.61470984, 51.],[ 9.31514956, 45.]])\n",
    "Y = np.array([[1., 1., 0., 0., 0., 0., 0., 0., 0., 1., 1., 0., 1., 1., 0., 0., 1., 0.]]).T\n",
    "\n",
    "# plotting\n",
    "import matplotlib.pyplot as plt\n",
    "import matplotlib\n",
    "%matplotlib inline\n",
    "def plot(X,Y):\n",
    "    \n",
    "    mask = Y[:, 0] == 1\n",
    "\n",
    "    plt.figure(figsize=(6, 6))\n",
    "    plt.plot(X[mask, 0], X[mask, 1], \"oC0\", mew=0, alpha=0.5)\n",
    "\n",
    "    plt.ylim(-10, 100)\n",
    "    plt.xlim(5, 15)\n",
    "\n",
    "    _ = plt.plot(X[np.logical_not(mask), 0], X[np.logical_not(mask), 1], \"oC1\", mew=0, alpha=0.5)\n",
    "\n",
    "plot(X,Y)"
   ]
  },
  {
   "cell_type": "code",
   "execution_count": 2,
   "metadata": {},
   "outputs": [],
   "source": [
    "# Evaluate real function and the predicted probability\n",
    "res = 500\n",
    "xx, yy = np.meshgrid(np.linspace(5, 15, res),\n",
    "                     np.linspace(- 10, 120, res))\n",
    "Xplot =  np.vstack((xx.flatten(), yy.flatten())).T\n"
   ]
  },
  {
   "cell_type": "markdown",
   "metadata": {},
   "source": [
    "# Building models by GPFlow and GPy"
   ]
  },
  {
   "cell_type": "code",
   "execution_count": 3,
   "metadata": {},
   "outputs": [],
   "source": [
    "# Code followed the Notebook : https://gpflow.readthedocs.io/en/develop/notebooks/basics/classification.html\n",
    "\n",
    "import tensorflow as tf\n",
    "import tensorflow_probability as tfp\n",
    "import gpflow\n",
    "from gpflow.utilities import print_summary, set_trainable, to_default_float\n",
    "gpflow.config.set_default_summary_fmt(\"notebook\")\n",
    "\n",
    "def testGPFlow(k):\n",
    "    m = gpflow.models.VGP(\n",
    "        (X, Y), \n",
    "        kernel= k,\n",
    "        likelihood=gpflow.likelihoods.Bernoulli()\n",
    "    )\n",
    "    print(\"\\n ########### Model before optimzation ########### \\n\")\n",
    "    print_summary(m)\n",
    "    \n",
    "    print(\"\\n ########### Model after optimzation ########### \\n\")\n",
    "    opt = gpflow.optimizers.Scipy()\n",
    "    res = opt.minimize(\n",
    "        m.training_loss, variables=m.trainable_variables, options=dict(maxiter=2500), method=\"L-BFGS-B\"\n",
    "    )        \n",
    "\n",
    "    print(' Message: ' + str(res.message) + '\\n Status = ' + str(res.status) + '\\n Number of iterations = ' + str(res.nit))\n",
    "    print_summary(m)\n",
    "    \n",
    "    means, _ = m.predict_y(Xplot)  # here we only care about the mean\n",
    "    y_prob = means.numpy().reshape(*xx.shape)\n",
    "\n",
    "    print(\"Fitting model using GPFlow\")\n",
    "    plot(X,Y)\n",
    "\n",
    "    _ = plt.contour(\n",
    "        xx,\n",
    "        yy,\n",
    "        y_prob,\n",
    "        [0.5],  # plot the p=0.5 contour line only\n",
    "        colors=\"k\",\n",
    "        linewidths=1.8,\n",
    "        zorder=100,\n",
    "    )"
   ]
  },
  {
   "cell_type": "code",
   "execution_count": 4,
   "metadata": {},
   "outputs": [],
   "source": [
    "import GPy \n",
    "\n",
    "def testGPy(k):\n",
    "    m = GPy.models.GPClassification(X,Y,k)\n",
    "    print(\"\\n ########### Model before optimzation ########### \\n\",m)\n",
    "    for i in range(5):\n",
    "        m.optimize('bfgs', max_iters=50) #first runs EP and then optimizes the kernel parameters\n",
    "    print(\"\\n ########### Model after optimzation ########### \\n\",m)\n",
    "    \n",
    "    p = m.predict(Xplot)[0].reshape((res, res)) \n",
    "    \n",
    "    print(\"Fitting model using GPy\")\n",
    "    plot(X,Y)\n",
    "\n",
    "    _ = plt.contour(\n",
    "        xx,\n",
    "        yy,\n",
    "        p,\n",
    "        [0.5],  # plot the p=0.5 contour line only\n",
    "        colors=\"k\",\n",
    "        linewidths=1.8,\n",
    "        zorder=100,\n",
    "    )"
   ]
  },
  {
   "cell_type": "markdown",
   "metadata": {},
   "source": [
    "## Tests with Linear kernel "
   ]
  },
  {
   "cell_type": "code",
   "execution_count": 5,
   "metadata": {},
   "outputs": [
    {
     "name": "stdout",
     "output_type": "stream",
     "text": [
      "\n",
      " ########### Model before optimzation ########### \n",
      " \n",
      "Name : gp_classification\n",
      "Objective : 14.101384172999182\n",
      "Number of Parameters : 1\n",
      "Number of Optimization Parameters : 1\n",
      "Updates : True\n",
      "Parameters:\n",
      "  \u001b[1mgp_classification.\u001b[0;0m  |  value  |  constraints  |  priors\n",
      "  \u001b[1mlinear.variances  \u001b[0;0m  |    1.0  |      +ve      |        \n",
      "\n",
      " ########### Model after optimzation ########### \n",
      " \n",
      "Name : gp_classification\n",
      "Objective : 12.713229845292535\n",
      "Number of Parameters : 1\n",
      "Number of Optimization Parameters : 1\n",
      "Updates : True\n",
      "Parameters:\n",
      "  \u001b[1mgp_classification.\u001b[0;0m  |               value  |  constraints  |  priors\n",
      "  \u001b[1mlinear.variances  \u001b[0;0m  |  0.0680452186699591  |      +ve      |        \n",
      "Fitting model using GPy\n"
     ]
    },
    {
     "data": {
      "image/png": "[encoded data removed]",
      "text/plain": [
       "<Figure size 432x432 with 1 Axes>"
      ]
     },
     "metadata": {
      "needs_background": "light"
     },
     "output_type": "display_data"
    }
   ],
   "source": [
    "k = GPy.kern.Linear(input_dim = 2, variances=1)\n",
    "testGPy(k)"
   ]
  },
  {
   "cell_type": "code",
   "execution_count": 12,
   "metadata": {},
   "outputs": [
    {
     "name": "stdout",
     "output_type": "stream",
     "text": [
      "\n",
      " ########### Model before optimzation ########### \n",
      "\n"
     ]
    },
    {
     "data": {
      "text/html": [
       "<table>\n",
       "<thead>\n",
       "<tr><th>name               </th><th>class    </th><th>transform     </th><th>prior  </th><th>trainable  </th><th>shape      </th><th>dtype  </th><th>value               </th></tr>\n",
       "</thead>\n",
       "<tbody>\n",
       "<tr><td>VGP.kernel.variance</td><td>Parameter</td><td>Softplus      </td><td>       </td><td>True       </td><td>()         </td><td>float64</td><td>0.009999999999999893</td></tr>\n",
       "<tr><td>VGP.q_mu           </td><td>Parameter</td><td>              </td><td>       </td><td>True       </td><td>(18, 1)    </td><td>float64</td><td>[[0....             </td></tr>\n",
       "<tr><td>VGP.q_sqrt         </td><td>Parameter</td><td>FillTriangular</td><td>       </td><td>True       </td><td>(1, 18, 18)</td><td>float64</td><td>[[[1., 0., 0....    </td></tr>\n",
       "</tbody>\n",
       "</table>"
      ],
      "text/plain": [
       "<IPython.core.display.HTML object>"
      ]
     },
     "metadata": {},
     "output_type": "display_data"
    },
    {
     "name": "stdout",
     "output_type": "stream",
     "text": [
      "\n",
      " ########### Model after optimzation ########### \n",
      "\n",
      " Message: b'CONVERGENCE: NORM_OF_PROJECTED_GRADIENT_<=_PGTOL'\n",
      " Status = 0\n",
      " Number of iterations = 22\n"
     ]
    },
    {
     "data": {
      "text/html": [
       "<table>\n",
       "<thead>\n",
       "<tr><th>name               </th><th>class    </th><th>transform     </th><th>prior  </th><th>trainable  </th><th>shape      </th><th>dtype  </th><th>value                                                </th></tr>\n",
       "</thead>\n",
       "<tbody>\n",
       "<tr><td>VGP.kernel.variance</td><td>Parameter</td><td>Softplus      </td><td>       </td><td>True       </td><td>()         </td><td>float64</td><td>6.119988884470273e-24                                </td></tr>\n",
       "<tr><td>VGP.q_mu           </td><td>Parameter</td><td>              </td><td>       </td><td>True       </td><td>(18, 1)    </td><td>float64</td><td>[[0.00079533...                                      </td></tr>\n",
       "<tr><td>VGP.q_sqrt         </td><td>Parameter</td><td>FillTriangular</td><td>       </td><td>True       </td><td>(1, 18, 18)</td><td>float64</td><td>[[[-1.00000091e+00, 0.00000000e+00, 0.00000000e+00...</td></tr>\n",
       "</tbody>\n",
       "</table>"
      ],
      "text/plain": [
       "<IPython.core.display.HTML object>"
      ]
     },
     "metadata": {},
     "output_type": "display_data"
    },
    {
     "name": "stdout",
     "output_type": "stream",
     "text": [
      "Fitting model using GPFlow\n"
     ]
    },
    {
     "name": "stderr",
     "output_type": "stream",
     "text": [
      " C:\\Users\\DELL\\anaconda3\\envs\\TF2\\lib\\site-packages\\ipykernel_launcher.py:40: UserWarning:No contour levels were found within the data range.\n"
     ]
    },
    {
     "data": {
      "image/png": "[encoded data removed]",
      "text/plain": [
       "<Figure size 432x432 with 1 Axes>"
      ]
     },
     "metadata": {
      "needs_background": "light"
     },
     "output_type": "display_data"
    }
   ],
   "source": [
    "k = gpflow.kernels.Linear(active_dims=[1],variance= 0.01)\n",
    "testGPFlow(k)"
   ]
  },
  {
   "cell_type": "code",
   "execution_count": 9,
   "metadata": {},
   "outputs": [
    {
     "name": "stdout",
     "output_type": "stream",
     "text": [
      "\n",
      " ########### Model before optimzation ########### \n",
      "\n"
     ]
    },
    {
     "data": {
      "text/html": [
       "<table>\n",
       "<thead>\n",
       "<tr><th>name               </th><th>class    </th><th>transform     </th><th>prior  </th><th>trainable  </th><th>shape      </th><th>dtype  </th><th>value              </th></tr>\n",
       "</thead>\n",
       "<tbody>\n",
       "<tr><td>VGP.kernel.variance</td><td>Parameter</td><td>Softplus      </td><td>       </td><td>True       </td><td>()         </td><td>float64</td><td>0.10000000000000007</td></tr>\n",
       "<tr><td>VGP.q_mu           </td><td>Parameter</td><td>              </td><td>       </td><td>True       </td><td>(18, 1)    </td><td>float64</td><td>[[0....            </td></tr>\n",
       "<tr><td>VGP.q_sqrt         </td><td>Parameter</td><td>FillTriangular</td><td>       </td><td>True       </td><td>(1, 18, 18)</td><td>float64</td><td>[[[1., 0., 0....   </td></tr>\n",
       "</tbody>\n",
       "</table>"
      ],
      "text/plain": [
       "<IPython.core.display.HTML object>"
      ]
     },
     "metadata": {},
     "output_type": "display_data"
    },
    {
     "name": "stdout",
     "output_type": "stream",
     "text": [
      "\n",
      " ########### Model after optimzation ########### \n",
      "\n",
      " Message: b'CONVERGENCE: REL_REDUCTION_OF_F_<=_FACTR*EPSMCH'\n",
      " Status = 0\n",
      " Number of iterations = 49\n"
     ]
    },
    {
     "data": {
      "text/html": [
       "<table>\n",
       "<thead>\n",
       "<tr><th>name               </th><th>class    </th><th>transform     </th><th>prior  </th><th>trainable  </th><th>shape      </th><th>dtype  </th><th>value                                               </th></tr>\n",
       "</thead>\n",
       "<tbody>\n",
       "<tr><td>VGP.kernel.variance</td><td>Parameter</td><td>Softplus      </td><td>       </td><td>True       </td><td>()         </td><td>float64</td><td>0.06821058844246995                                 </td></tr>\n",
       "<tr><td>VGP.q_mu           </td><td>Parameter</td><td>              </td><td>       </td><td>True       </td><td>(18, 1)    </td><td>float64</td><td>[[2.35061043e-02...                                 </td></tr>\n",
       "<tr><td>VGP.q_sqrt         </td><td>Parameter</td><td>FillTriangular</td><td>       </td><td>True       </td><td>(1, 18, 18)</td><td>float64</td><td>[[[2.85019935e-02, 0.00000000e+00, 0.00000000e+00...</td></tr>\n",
       "</tbody>\n",
       "</table>"
      ],
      "text/plain": [
       "<IPython.core.display.HTML object>"
      ]
     },
     "metadata": {},
     "output_type": "display_data"
    },
    {
     "name": "stdout",
     "output_type": "stream",
     "text": [
      "Fitting model using GPFlow\n"
     ]
    },
    {
     "data": {
      "image/png": "[encoded data removed]",
      "text/plain": [
       "<Figure size 432x432 with 1 Axes>"
      ]
     },
     "metadata": {
      "needs_background": "light"
     },
     "output_type": "display_data"
    }
   ],
   "source": [
    "k = gpflow.kernels.Linear(variance= 0.1)\n",
    "testGPFlow(k)"
   ]
  },
  {
   "cell_type": "markdown",
   "metadata": {},
   "source": [
    "## Tests with  Squared Exponential + Linear kernel"
   ]
  },
  {
   "cell_type": "code",
   "execution_count": 13,
   "metadata": {},
   "outputs": [
    {
     "name": "stdout",
     "output_type": "stream",
     "text": [
      "\n",
      " ########### Model before optimzation ########### \n",
      " \n",
      "Name : gp_classification\n",
      "Objective : 12.181883229442025\n",
      "Number of Parameters : 3\n",
      "Number of Optimization Parameters : 3\n",
      "Updates : True\n",
      "Parameters:\n",
      "  \u001b[1mgp_classification.  \u001b[0;0m  |  value  |  constraints  |  priors\n",
      "  \u001b[1msum.rbf.variance    \u001b[0;0m  |    7.0  |      +ve      |        \n",
      "  \u001b[1msum.rbf.lengthscale \u001b[0;0m  |    0.2  |      +ve      |        \n",
      "  \u001b[1msum.linear.variances\u001b[0;0m  |    1.0  |      +ve      |        \n",
      "\n",
      " ########### Model after optimzation ########### \n",
      " \n",
      "Name : gp_classification\n",
      "Objective : 12.067814935833344\n",
      "Number of Parameters : 3\n",
      "Number of Optimization Parameters : 3\n",
      "Updates : True\n",
      "Parameters:\n",
      "  \u001b[1mgp_classification.  \u001b[0;0m  |                value  |  constraints  |  priors\n",
      "  \u001b[1msum.rbf.variance    \u001b[0;0m  |    8.098794771002462  |      +ve      |        \n",
      "  \u001b[1msum.rbf.lengthscale \u001b[0;0m  |  0.06969739045502386  |      +ve      |        \n",
      "  \u001b[1msum.linear.variances\u001b[0;0m  |   0.6117837549877334  |      +ve      |        \n",
      "Fitting model using GPy\n"
     ]
    },
    {
     "data": {
      "image/png": "[encoded data removed]",
      "text/plain": [
       "<Figure size 432x432 with 1 Axes>"
      ]
     },
     "metadata": {
      "needs_background": "light"
     },
     "output_type": "display_data"
    }
   ],
   "source": [
    "k = GPy.kern.RBF(input_dim = 1, variance=7., lengthscale=0.2) + GPy.kern.Linear(input_dim = 2, variances=1)\n",
    "testGPy(k)"
   ]
  },
  {
   "cell_type": "code",
   "execution_count": 14,
   "metadata": {},
   "outputs": [
    {
     "name": "stdout",
     "output_type": "stream",
     "text": [
      "\n",
      " ########### Model before optimzation ########### \n",
      "\n"
     ]
    },
    {
     "data": {
      "text/html": [
       "<table>\n",
       "<thead>\n",
       "<tr><th>name                              </th><th>class    </th><th>transform     </th><th>prior  </th><th>trainable  </th><th>shape      </th><th>dtype  </th><th>value               </th></tr>\n",
       "</thead>\n",
       "<tbody>\n",
       "<tr><td>VGP.kernel.kernels[0].variance    </td><td>Parameter</td><td>Softplus      </td><td>       </td><td>True       </td><td>()         </td><td>float64</td><td>7.0                 </td></tr>\n",
       "<tr><td>VGP.kernel.kernels[0].lengthscales</td><td>Parameter</td><td>Softplus      </td><td>       </td><td>True       </td><td>()         </td><td>float64</td><td>0.2                 </td></tr>\n",
       "<tr><td>VGP.kernel.kernels[1].variance    </td><td>Parameter</td><td>Softplus      </td><td>       </td><td>True       </td><td>()         </td><td>float64</td><td>0.009999999999999893</td></tr>\n",
       "<tr><td>VGP.q_mu                          </td><td>Parameter</td><td>              </td><td>       </td><td>True       </td><td>(18, 1)    </td><td>float64</td><td>[[0....             </td></tr>\n",
       "<tr><td>VGP.q_sqrt                        </td><td>Parameter</td><td>FillTriangular</td><td>       </td><td>True       </td><td>(1, 18, 18)</td><td>float64</td><td>[[[1., 0., 0....    </td></tr>\n",
       "</tbody>\n",
       "</table>"
      ],
      "text/plain": [
       "<IPython.core.display.HTML object>"
      ]
     },
     "metadata": {},
     "output_type": "display_data"
    },
    {
     "name": "stdout",
     "output_type": "stream",
     "text": [
      "\n",
      " ########### Model after optimzation ########### \n",
      "\n",
      " Message: b'CONVERGENCE: REL_REDUCTION_OF_F_<=_FACTR*EPSMCH'\n",
      " Status = 0\n",
      " Number of iterations = 64\n"
     ]
    },
    {
     "data": {
      "text/html": [
       "<table>\n",
       "<thead>\n",
       "<tr><th>name                              </th><th>class    </th><th>transform     </th><th>prior  </th><th>trainable  </th><th>shape      </th><th>dtype  </th><th>value                                               </th></tr>\n",
       "</thead>\n",
       "<tbody>\n",
       "<tr><td>VGP.kernel.kernels[0].variance    </td><td>Parameter</td><td>Softplus      </td><td>       </td><td>True       </td><td>()         </td><td>float64</td><td>4.240353778131672e-08                               </td></tr>\n",
       "<tr><td>VGP.kernel.kernels[0].lengthscales</td><td>Parameter</td><td>Softplus      </td><td>       </td><td>True       </td><td>()         </td><td>float64</td><td>0.14474774642481428                                 </td></tr>\n",
       "<tr><td>VGP.kernel.kernels[1].variance    </td><td>Parameter</td><td>Softplus      </td><td>       </td><td>True       </td><td>()         </td><td>float64</td><td>2.1836430479781176e-22                              </td></tr>\n",
       "<tr><td>VGP.q_mu                          </td><td>Parameter</td><td>              </td><td>       </td><td>True       </td><td>(18, 1)    </td><td>float64</td><td>[[0.00080527...                                     </td></tr>\n",
       "<tr><td>VGP.q_sqrt                        </td><td>Parameter</td><td>FillTriangular</td><td>       </td><td>True       </td><td>(1, 18, 18)</td><td>float64</td><td>[[[1.00001723e+00, 0.00000000e+00, 0.00000000e+00...</td></tr>\n",
       "</tbody>\n",
       "</table>"
      ],
      "text/plain": [
       "<IPython.core.display.HTML object>"
      ]
     },
     "metadata": {},
     "output_type": "display_data"
    },
    {
     "name": "stdout",
     "output_type": "stream",
     "text": [
      "Fitting model using GPFlow\n"
     ]
    },
    {
     "data": {
      "image/png": "[encoded data removed]",
      "text/plain": [
       "<Figure size 432x432 with 1 Axes>"
      ]
     },
     "metadata": {
      "needs_background": "light"
     },
     "output_type": "display_data"
    }
   ],
   "source": [
    "k= gpflow.kernels.SquaredExponential(active_dims=[0],variance=7.0, lengthscales=0.2) + \\\n",
    "    gpflow.kernels.Linear(active_dims=[1],variance= 0.01)\n",
    "\n",
    "testGPFlow(k)"
   ]
  },
  {
   "cell_type": "code",
   "execution_count": 15,
   "metadata": {},
   "outputs": [
    {
     "name": "stdout",
     "output_type": "stream",
     "text": [
      "\n",
      " ########### Model before optimzation ########### \n",
      "\n"
     ]
    },
    {
     "data": {
      "text/html": [
       "<table>\n",
       "<thead>\n",
       "<tr><th>name                              </th><th>class    </th><th>transform     </th><th>prior  </th><th>trainable  </th><th>shape      </th><th>dtype  </th><th>value              </th></tr>\n",
       "</thead>\n",
       "<tbody>\n",
       "<tr><td>VGP.kernel.kernels[0].variance    </td><td>Parameter</td><td>Softplus      </td><td>       </td><td>True       </td><td>()         </td><td>float64</td><td>7.0                </td></tr>\n",
       "<tr><td>VGP.kernel.kernels[0].lengthscales</td><td>Parameter</td><td>Softplus      </td><td>       </td><td>True       </td><td>()         </td><td>float64</td><td>0.2                </td></tr>\n",
       "<tr><td>VGP.kernel.kernels[1].variance    </td><td>Parameter</td><td>Softplus      </td><td>       </td><td>True       </td><td>()         </td><td>float64</td><td>0.10000000000000007</td></tr>\n",
       "<tr><td>VGP.q_mu                          </td><td>Parameter</td><td>              </td><td>       </td><td>True       </td><td>(18, 1)    </td><td>float64</td><td>[[0....            </td></tr>\n",
       "<tr><td>VGP.q_sqrt                        </td><td>Parameter</td><td>FillTriangular</td><td>       </td><td>True       </td><td>(1, 18, 18)</td><td>float64</td><td>[[[1., 0., 0....   </td></tr>\n",
       "</tbody>\n",
       "</table>"
      ],
      "text/plain": [
       "<IPython.core.display.HTML object>"
      ]
     },
     "metadata": {},
     "output_type": "display_data"
    },
    {
     "name": "stdout",
     "output_type": "stream",
     "text": [
      "\n",
      " ########### Model after optimzation ########### \n",
      "\n",
      " Message: b'CONVERGENCE: REL_REDUCTION_OF_F_<=_FACTR*EPSMCH'\n",
      " Status = 0\n",
      " Number of iterations = 346\n"
     ]
    },
    {
     "data": {
      "text/html": [
       "<table>\n",
       "<thead>\n",
       "<tr><th>name                              </th><th>class    </th><th>transform     </th><th>prior  </th><th>trainable  </th><th>shape      </th><th>dtype  </th><th>value                                               </th></tr>\n",
       "</thead>\n",
       "<tbody>\n",
       "<tr><td>VGP.kernel.kernels[0].variance    </td><td>Parameter</td><td>Softplus      </td><td>       </td><td>True       </td><td>()         </td><td>float64</td><td>1.7091410999014032                                  </td></tr>\n",
       "<tr><td>VGP.kernel.kernels[0].lengthscales</td><td>Parameter</td><td>Softplus      </td><td>       </td><td>True       </td><td>()         </td><td>float64</td><td>0.24928481657404863                                 </td></tr>\n",
       "<tr><td>VGP.kernel.kernels[1].variance    </td><td>Parameter</td><td>Softplus      </td><td>       </td><td>True       </td><td>()         </td><td>float64</td><td>0.18837444677555662                                 </td></tr>\n",
       "<tr><td>VGP.q_mu                          </td><td>Parameter</td><td>              </td><td>       </td><td>True       </td><td>(18, 1)    </td><td>float64</td><td>[[7.66828294e-02...                                 </td></tr>\n",
       "<tr><td>VGP.q_sqrt                        </td><td>Parameter</td><td>FillTriangular</td><td>       </td><td>True       </td><td>(1, 18, 18)</td><td>float64</td><td>[[[3.94198847e-02, 0.00000000e+00, 0.00000000e+00...</td></tr>\n",
       "</tbody>\n",
       "</table>"
      ],
      "text/plain": [
       "<IPython.core.display.HTML object>"
      ]
     },
     "metadata": {},
     "output_type": "display_data"
    },
    {
     "name": "stdout",
     "output_type": "stream",
     "text": [
      "Fitting model using GPFlow\n"
     ]
    },
    {
     "data": {
      "image/png": "[encoded data removed]",
      "text/plain": [
       "<Figure size 432x432 with 1 Axes>"
      ]
     },
     "metadata": {
      "needs_background": "light"
     },
     "output_type": "display_data"
    }
   ],
   "source": [
    "k= gpflow.kernels.SquaredExponential(active_dims=[0],variance=7.0, lengthscales=0.2) + \\\n",
    "    gpflow.kernels.Linear(variance= 0.1)\n",
    "\n",
    "testGPFlow(k)"
   ]
  },
  {
   "cell_type": "code",
   "execution_count": null,
   "metadata": {},
   "outputs": [],
   "source": []
  }
 ],
 "metadata": {
  "kernelspec": {
   "display_name": "Python 3",
   "language": "python",
   "name": "python3"
  },
  "language_info": {
   "codemirror_mode": {
    "name": "ipython",
    "version": 3
   },
   "file_extension": ".py",
   "mimetype": "text/x-python",
   "name": "python",
   "nbconvert_exporter": "python",
   "pygments_lexer": "ipython3",
   "version": "3.7.7"
  }
 },
 "nbformat": 4,
 "nbformat_minor": 4
}
